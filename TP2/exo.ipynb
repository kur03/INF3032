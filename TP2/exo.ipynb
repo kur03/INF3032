{
 "cells": [
  {
   "cell_type": "markdown",
   "id": "01c4cab9-e11f-422b-b541-62a5773a2fd6",
   "metadata": {},
   "source": [
    "### ***Data manipulation***\n",
    "   Reading a csv file\n",
    "   \n",
    "```import pandas as pd```\n",
    "\n",
    "```df=pd.read_csv(\"offshoreleaks.csv\")```\n",
    "\n",
    "   Access to columns\n",
    "   \n",
    "```df[\"<column_name>\"]```\n",
    "\n",
    "   Filtering\n",
    "   \n",
    "```df[df[\"<column_name>\"]==\"<value>\"]```\n",
    "\n",
    "   Statistics on one column\n",
    "   \n",
    "```df[\"<column_name>\"].value_counts()```"
   ]
  },
  {
   "cell_type": "markdown",
   "id": "f8056586-917e-4b43-81cc-c47b86452c03",
   "metadata": {},
   "source": [
    "### ***Exercise n° 1***"
   ]
  },
  {
   "cell_type": "code",
   "execution_count": 1,
   "id": "371bb174-3c42-444b-a1ba-093c2cee6417",
   "metadata": {},
   "outputs": [
    {
     "data": {
      "text/plain": [
       "'1.3.4'"
      ]
     },
     "execution_count": 1,
     "metadata": {},
     "output_type": "execute_result"
    }
   ],
   "source": [
    "import pandas\n",
    "pandas.__version__"
   ]
  },
  {
   "cell_type": "markdown",
   "id": "388fd05d-c21f-44ec-8079-d9740fb3fb14",
   "metadata": {},
   "source": [
    "### Question n°1\n",
    "How many countries were declared in the offshore leaks? (nodes-addresses.csv)"
   ]
  },
  {
   "cell_type": "code",
   "execution_count": 21,
   "id": "4f9d7544-657a-4abd-b72a-9b5087453039",
   "metadata": {},
   "outputs": [
    {
     "data": {
      "text/plain": [
       "237"
      ]
     },
     "execution_count": 21,
     "metadata": {},
     "output_type": "execute_result"
    }
   ],
   "source": [
    "import pandas as pd\n",
    "\n",
    "df=pd.read_csv(\"nodes-addresses.csv\", low_memory=False)\n",
    "len(df[\"countries\"].value_counts())"
   ]
  },
  {
   "cell_type": "markdown",
   "id": "79565656-db26-42c1-8b9d-039ebbd38309",
   "metadata": {},
   "source": [
    "### Question n°2\n",
    "In how many entries does the word \"Ireland\" appear? (nodes-addresses.csv)"
   ]
  },
  {
   "cell_type": "code",
   "execution_count": 19,
   "id": "87c20496-6764-4c1b-94fc-87e88bc1d01f",
   "metadata": {},
   "outputs": [
    {
     "data": {
      "text/plain": [
       "899"
      ]
     },
     "execution_count": 19,
     "metadata": {},
     "output_type": "execute_result"
    }
   ],
   "source": [
    "import pandas as pd\n",
    "\n",
    "df=pd.read_csv(\"nodes-addresses.csv\", low_memory=False)\n",
    "len(df[df[\"countries\"]==\"Ireland\"])"
   ]
  },
  {
   "cell_type": "markdown",
   "id": "f9af2968-d88e-48f6-a3d1-9989a1d4b8d4",
   "metadata": {},
   "source": [
    "### Question n°3\n",
    "In how many montages does \"EL PORTADOR\" appear? (nodes-officers.csv)"
   ]
  },
  {
   "cell_type": "code",
   "execution_count": 20,
   "id": "865832a6-6872-4d01-8bd2-da1be7620d24",
   "metadata": {},
   "outputs": [
    {
     "data": {
      "text/plain": [
       "9325"
      ]
     },
     "execution_count": 20,
     "metadata": {},
     "output_type": "execute_result"
    }
   ],
   "source": [
    "import pandas as pd\n",
    "\n",
    "df=pd.read_csv(\"nodes-officers.csv\", low_memory=False)\n",
    "len(df[df[\"name\"]==\"EL PORTADOR\"])"
   ]
  },
  {
   "cell_type": "markdown",
   "id": "f651624d-4ebe-4739-8c17-da123348a086",
   "metadata": {},
   "source": [
    "### ***Using Seaborn***\n",
    "```import seaborn as sns```\n",
    "\n",
    "```sns.countplot(x=\"<name_column>\", data=df)```"
   ]
  },
  {
   "cell_type": "markdown",
   "id": "32161e48-f956-4430-b0a9-fa2bf5fd5d4f",
   "metadata": {},
   "source": [
    "### ***Exercise n° 2***"
   ]
  },
  {
   "cell_type": "code",
   "execution_count": 19,
   "id": "75432ee2-e08d-4c07-af0d-1d2dee4e06d3",
   "metadata": {},
   "outputs": [
    {
     "data": {
      "text/plain": [
       "'0.11.2'"
      ]
     },
     "execution_count": 19,
     "metadata": {},
     "output_type": "execute_result"
    }
   ],
   "source": [
    "import seaborn as sns\n",
    "sns.__version__"
   ]
  },
  {
   "cell_type": "markdown",
   "id": "553d396f-da8e-4b2e-bd49-7d8c5f0c0bc8",
   "metadata": {},
   "source": [
    "### Question n° 4\n",
    "Make a histogram of the countries that have been declared in the offshore leaks"
   ]
  },
  {
   "cell_type": "code",
   "execution_count": 9,
   "id": "90eb73d1-6eb5-444a-a207-3fa48496b9f6",
   "metadata": {},
   "outputs": [
    {
     "data": {
      "text/plain": [
       "<AxesSubplot:xlabel='countries', ylabel='count'>"
      ]
     },
     "execution_count": 9,
     "metadata": {},
     "output_type": "execute_result"
    },
    {
     "data": {
      "image/png": "[encoded data removed]",
      "text/plain": [
       "<Figure size 432x288 with 1 Axes>"
      ]
     },
     "metadata": {
      "needs_background": "light"
     },
     "output_type": "display_data"
    }
   ],
   "source": [
    "import seaborn as sns\n",
    "import pandas as pd\n",
    "\n",
    "df=pd.read_csv(\"nodes-addresses.csv\", low_memory=False)\n",
    "sns.countplot(x=\"countries\", data=df)"
   ]
  },
  {
   "cell_type": "markdown",
   "id": "a9239b53-ee8c-4c63-a0e7-225bcb9fbf0e",
   "metadata": {},
   "source": [
    "### Question n°5\n",
    "Are we in the presence of a normal law if not what is the top 20 of the most declared countries?"
   ]
  },
  {
   "cell_type": "code",
   "execution_count": 17,
   "id": "86fbcc40-2113-40e8-9076-9e636b8f4ea5",
   "metadata": {},
   "outputs": [
    {
     "data": {
      "text/plain": [
       "China                     32067\n",
       "Hong Kong                 27179\n",
       "United States             24248\n",
       "Barbados                  19344\n",
       "Aruba                     17512\n",
       "Taiwan                    15326\n",
       "United Kingdom            11706\n",
       "Singapore                  7149\n",
       "Russia                     5963\n",
       "British Virgin Islands     5282\n",
       "Switzerland                5113\n",
       "Jersey                     3932\n",
       "Bermuda                    3920\n",
       "Indonesia                  3412\n",
       "United Arab Emirates       3283\n",
       "Panama                     3257\n",
       "Malaysia                   3241\n",
       "Canada                     3139\n",
       "Brazil                     2979\n",
       "Cyprus                     2842\n",
       "Name: countries, dtype: int64"
      ]
     },
     "execution_count": 17,
     "metadata": {},
     "output_type": "execute_result"
    }
   ],
   "source": [
    "import seaborn as sns\n",
    "import pandas as pd\n",
    "\n",
    "df=pd.read_csv(\"nodes-addresses.csv\", low_memory=False)\n",
    "df[\"countries\"].value_counts()[:20]"
   ]
  },
  {
   "cell_type": "markdown",
   "id": "04c1a7f2-4199-4af9-8277-77dd6b466545",
   "metadata": {},
   "source": [
    "### ***Reconstruction de la base de données***\n",
    "Merge the dataframes according to the graph to have on the same dataframe the following subgraph \"officer --- officer of ---> entity\"."
   ]
  },
  {
   "cell_type": "code",
   "execution_count": 28,
   "id": "f0a84ce1-c1e0-4c78-a4c6-72b5ff53c17f",
   "metadata": {},
   "outputs": [
    {
     "data": {
      "text/html": [
       "<div>\n",
       "<style scoped>\n",
       "    .dataframe tbody tr th:only-of-type {\n",
       "        vertical-align: middle;\n",
       "    }\n",
       "\n",
       "    .dataframe tbody tr th {\n",
       "        vertical-align: top;\n",
       "    }\n",
       "\n",
       "    .dataframe thead th {\n",
       "        text-align: right;\n",
       "    }\n",
       "</style>\n",
       "<table border=\"1\" class=\"dataframe\">\n",
       "  <thead>\n",
       "    <tr style=\"text-align: right;\">\n",
       "      <th></th>\n",
       "      <th>_id_x</th>\n",
       "      <th>node_id_x</th>\n",
       "      <th>name_x</th>\n",
       "      <th>original_name</th>\n",
       "      <th>former_name</th>\n",
       "      <th>jurisdiction</th>\n",
       "      <th>jurisdiction_description</th>\n",
       "      <th>company_type</th>\n",
       "      <th>address</th>\n",
       "      <th>internal_id</th>\n",
       "      <th>...</th>\n",
       "      <th>valid_until_y</th>\n",
       "      <th>note_y</th>\n",
       "      <th>_start</th>\n",
       "      <th>_end</th>\n",
       "      <th>_type</th>\n",
       "      <th>link</th>\n",
       "      <th>status_y</th>\n",
       "      <th>start_date</th>\n",
       "      <th>end_date</th>\n",
       "      <th>sourceID_y</th>\n",
       "    </tr>\n",
       "  </thead>\n",
       "  <tbody>\n",
       "    <tr>\n",
       "      <th>0</th>\n",
       "      <td>0</td>\n",
       "      <td>10000001</td>\n",
       "      <td>TIANSHENG INDUSTRY AND TRADING CO., LTD.</td>\n",
       "      <td>TIANSHENG INDUSTRY AND TRADING CO., LTD.</td>\n",
       "      <td>NaN</td>\n",
       "      <td>SAM</td>\n",
       "      <td>Samoa</td>\n",
       "      <td>NaN</td>\n",
       "      <td>ORION HOUSE SERVICES (HK) LIMITED ROOM 1401; 1...</td>\n",
       "      <td>1001256.0</td>\n",
       "      <td>...</td>\n",
       "      <td>The Panama Papers data is current through 2015</td>\n",
       "      <td>NaN</td>\n",
       "      <td>388171</td>\n",
       "      <td>0</td>\n",
       "      <td>officer_of</td>\n",
       "      <td>shareholder of</td>\n",
       "      <td>NaN</td>\n",
       "      <td>23-MAR-2006</td>\n",
       "      <td>NaN</td>\n",
       "      <td>Panama Papers</td>\n",
       "    </tr>\n",
       "    <tr>\n",
       "      <th>1</th>\n",
       "      <td>0</td>\n",
       "      <td>10000001</td>\n",
       "      <td>TIANSHENG INDUSTRY AND TRADING CO., LTD.</td>\n",
       "      <td>TIANSHENG INDUSTRY AND TRADING CO., LTD.</td>\n",
       "      <td>NaN</td>\n",
       "      <td>SAM</td>\n",
       "      <td>Samoa</td>\n",
       "      <td>NaN</td>\n",
       "      <td>ORION HOUSE SERVICES (HK) LIMITED ROOM 1401; 1...</td>\n",
       "      <td>1001256.0</td>\n",
       "      <td>...</td>\n",
       "      <td>The Panama Papers data is current through 2015</td>\n",
       "      <td>NaN</td>\n",
       "      <td>429978</td>\n",
       "      <td>0</td>\n",
       "      <td>officer_of</td>\n",
       "      <td>shareholder of</td>\n",
       "      <td>NaN</td>\n",
       "      <td>23-MAR-2006</td>\n",
       "      <td>NaN</td>\n",
       "      <td>Panama Papers</td>\n",
       "    </tr>\n",
       "    <tr>\n",
       "      <th>2</th>\n",
       "      <td>1</td>\n",
       "      <td>10000002</td>\n",
       "      <td>NINGBO SUNRISE ENTERPRISES UNITED CO., LTD.</td>\n",
       "      <td>NINGBO SUNRISE ENTERPRISES UNITED CO., LTD.</td>\n",
       "      <td>NaN</td>\n",
       "      <td>SAM</td>\n",
       "      <td>Samoa</td>\n",
       "      <td>NaN</td>\n",
       "      <td>ORION HOUSE SERVICES (HK) LIMITED ROOM 1401; 1...</td>\n",
       "      <td>1001263.0</td>\n",
       "      <td>...</td>\n",
       "      <td>The Panama Papers data is current through 2015</td>\n",
       "      <td>NaN</td>\n",
       "      <td>388171</td>\n",
       "      <td>1</td>\n",
       "      <td>officer_of</td>\n",
       "      <td>shareholder of</td>\n",
       "      <td>NaN</td>\n",
       "      <td>27-MAR-2006</td>\n",
       "      <td>NaN</td>\n",
       "      <td>Panama Papers</td>\n",
       "    </tr>\n",
       "    <tr>\n",
       "      <th>3</th>\n",
       "      <td>1</td>\n",
       "      <td>10000002</td>\n",
       "      <td>NINGBO SUNRISE ENTERPRISES UNITED CO., LTD.</td>\n",
       "      <td>NINGBO SUNRISE ENTERPRISES UNITED CO., LTD.</td>\n",
       "      <td>NaN</td>\n",
       "      <td>SAM</td>\n",
       "      <td>Samoa</td>\n",
       "      <td>NaN</td>\n",
       "      <td>ORION HOUSE SERVICES (HK) LIMITED ROOM 1401; 1...</td>\n",
       "      <td>1001263.0</td>\n",
       "      <td>...</td>\n",
       "      <td>The Panama Papers data is current through 2015</td>\n",
       "      <td>NaN</td>\n",
       "      <td>430722</td>\n",
       "      <td>1</td>\n",
       "      <td>officer_of</td>\n",
       "      <td>shareholder of</td>\n",
       "      <td>NaN</td>\n",
       "      <td>27-MAR-2006</td>\n",
       "      <td>NaN</td>\n",
       "      <td>Panama Papers</td>\n",
       "    </tr>\n",
       "    <tr>\n",
       "      <th>4</th>\n",
       "      <td>2</td>\n",
       "      <td>10000003</td>\n",
       "      <td>HOTFOCUS CO., LTD.</td>\n",
       "      <td>HOTFOCUS CO., LTD.</td>\n",
       "      <td>NaN</td>\n",
       "      <td>SAM</td>\n",
       "      <td>Samoa</td>\n",
       "      <td>NaN</td>\n",
       "      <td>ORION HOUSE SERVICES (HK) LIMITED ROOM 1401; 1...</td>\n",
       "      <td>1000896.0</td>\n",
       "      <td>...</td>\n",
       "      <td>The Panama Papers data is current through 2015</td>\n",
       "      <td>NaN</td>\n",
       "      <td>388171</td>\n",
       "      <td>2</td>\n",
       "      <td>officer_of</td>\n",
       "      <td>shareholder of</td>\n",
       "      <td>NaN</td>\n",
       "      <td>10-JAN-2006</td>\n",
       "      <td>NaN</td>\n",
       "      <td>Panama Papers</td>\n",
       "    </tr>\n",
       "    <tr>\n",
       "      <th>...</th>\n",
       "      <td>...</td>\n",
       "      <td>...</td>\n",
       "      <td>...</td>\n",
       "      <td>...</td>\n",
       "      <td>...</td>\n",
       "      <td>...</td>\n",
       "      <td>...</td>\n",
       "      <td>...</td>\n",
       "      <td>...</td>\n",
       "      <td>...</td>\n",
       "      <td>...</td>\n",
       "      <td>...</td>\n",
       "      <td>...</td>\n",
       "      <td>...</td>\n",
       "      <td>...</td>\n",
       "      <td>...</td>\n",
       "      <td>...</td>\n",
       "      <td>...</td>\n",
       "      <td>...</td>\n",
       "      <td>...</td>\n",
       "      <td>...</td>\n",
       "    </tr>\n",
       "    <tr>\n",
       "      <th>1686128</th>\n",
       "      <td>1966846</td>\n",
       "      <td>55034110</td>\n",
       "      <td>YUSTAT SHIPPING 4 LIMITED</td>\n",
       "      <td>NaN</td>\n",
       "      <td>NaN</td>\n",
       "      <td>MLT</td>\n",
       "      <td>Malta</td>\n",
       "      <td>NaN</td>\n",
       "      <td>NaN</td>\n",
       "      <td>NaN</td>\n",
       "      <td>...</td>\n",
       "      <td>Malta corporate registry data is current throu...</td>\n",
       "      <td>NaN</td>\n",
       "      <td>1812217</td>\n",
       "      <td>1966846</td>\n",
       "      <td>officer_of</td>\n",
       "      <td>judicial representative of</td>\n",
       "      <td>NaN</td>\n",
       "      <td>NaN</td>\n",
       "      <td>NaN</td>\n",
       "      <td>Paradise Papers - Malta corporate registry</td>\n",
       "    </tr>\n",
       "    <tr>\n",
       "      <th>1686129</th>\n",
       "      <td>1969303</td>\n",
       "      <td>240039001</td>\n",
       "      <td>Klamart Limited</td>\n",
       "      <td>NaN</td>\n",
       "      <td>NaN</td>\n",
       "      <td>BLZ</td>\n",
       "      <td>Belize</td>\n",
       "      <td>NaN</td>\n",
       "      <td>NaN</td>\n",
       "      <td>NaN</td>\n",
       "      <td>...</td>\n",
       "      <td>Pandora Papers - Alcogal data is current throu...</td>\n",
       "      <td>NaN</td>\n",
       "      <td>1969304</td>\n",
       "      <td>1969303</td>\n",
       "      <td>officer_of</td>\n",
       "      <td>President, Director</td>\n",
       "      <td>NaN</td>\n",
       "      <td>NaN</td>\n",
       "      <td>NaN</td>\n",
       "      <td>Pandora Papers - Alemán, Cordero, Galindo &amp; Le...</td>\n",
       "    </tr>\n",
       "    <tr>\n",
       "      <th>1686130</th>\n",
       "      <td>1969303</td>\n",
       "      <td>240039001</td>\n",
       "      <td>Klamart Limited</td>\n",
       "      <td>NaN</td>\n",
       "      <td>NaN</td>\n",
       "      <td>BLZ</td>\n",
       "      <td>Belize</td>\n",
       "      <td>NaN</td>\n",
       "      <td>NaN</td>\n",
       "      <td>NaN</td>\n",
       "      <td>...</td>\n",
       "      <td>Pandora Papers - Alcogal data is current throu...</td>\n",
       "      <td>NaN</td>\n",
       "      <td>1969305</td>\n",
       "      <td>1969303</td>\n",
       "      <td>officer_of</td>\n",
       "      <td>Power of Attorney</td>\n",
       "      <td>NaN</td>\n",
       "      <td>16-JAN-2006</td>\n",
       "      <td>NaN</td>\n",
       "      <td>Pandora Papers - Alemán, Cordero, Galindo &amp; Le...</td>\n",
       "    </tr>\n",
       "    <tr>\n",
       "      <th>1686131</th>\n",
       "      <td>1969303</td>\n",
       "      <td>240039001</td>\n",
       "      <td>Klamart Limited</td>\n",
       "      <td>NaN</td>\n",
       "      <td>NaN</td>\n",
       "      <td>BLZ</td>\n",
       "      <td>Belize</td>\n",
       "      <td>NaN</td>\n",
       "      <td>NaN</td>\n",
       "      <td>NaN</td>\n",
       "      <td>...</td>\n",
       "      <td>Pandora Papers - Alcogal data is current throu...</td>\n",
       "      <td>NaN</td>\n",
       "      <td>1969306</td>\n",
       "      <td>1969303</td>\n",
       "      <td>officer_of</td>\n",
       "      <td>Power of Attorney</td>\n",
       "      <td>NaN</td>\n",
       "      <td>16-JAN-2006</td>\n",
       "      <td>NaN</td>\n",
       "      <td>Pandora Papers - Alemán, Cordero, Galindo &amp; Le...</td>\n",
       "    </tr>\n",
       "    <tr>\n",
       "      <th>1686132</th>\n",
       "      <td>1969303</td>\n",
       "      <td>240039001</td>\n",
       "      <td>Klamart Limited</td>\n",
       "      <td>NaN</td>\n",
       "      <td>NaN</td>\n",
       "      <td>BLZ</td>\n",
       "      <td>Belize</td>\n",
       "      <td>NaN</td>\n",
       "      <td>NaN</td>\n",
       "      <td>NaN</td>\n",
       "      <td>...</td>\n",
       "      <td>Pandora Papers - Alcogal data is current throu...</td>\n",
       "      <td>NaN</td>\n",
       "      <td>1969307</td>\n",
       "      <td>1969303</td>\n",
       "      <td>officer_of</td>\n",
       "      <td>Secretary, Director</td>\n",
       "      <td>NaN</td>\n",
       "      <td>NaN</td>\n",
       "      <td>NaN</td>\n",
       "      <td>Pandora Papers - Alemán, Cordero, Galindo &amp; Le...</td>\n",
       "    </tr>\n",
       "  </tbody>\n",
       "</table>\n",
       "<p>1686133 rows × 38 columns</p>\n",
       "</div>"
      ],
      "text/plain": [
       "           _id_x  node_id_x                                       name_x  \\\n",
       "0              0   10000001     TIANSHENG INDUSTRY AND TRADING CO., LTD.   \n",
       "1              0   10000001     TIANSHENG INDUSTRY AND TRADING CO., LTD.   \n",
       "2              1   10000002  NINGBO SUNRISE ENTERPRISES UNITED CO., LTD.   \n",
       "3              1   10000002  NINGBO SUNRISE ENTERPRISES UNITED CO., LTD.   \n",
       "4              2   10000003                           HOTFOCUS CO., LTD.   \n",
       "...          ...        ...                                          ...   \n",
       "1686128  1966846   55034110                    YUSTAT SHIPPING 4 LIMITED   \n",
       "1686129  1969303  240039001                              Klamart Limited   \n",
       "1686130  1969303  240039001                              Klamart Limited   \n",
       "1686131  1969303  240039001                              Klamart Limited   \n",
       "1686132  1969303  240039001                              Klamart Limited   \n",
       "\n",
       "                                       original_name former_name jurisdiction  \\\n",
       "0           TIANSHENG INDUSTRY AND TRADING CO., LTD.         NaN          SAM   \n",
       "1           TIANSHENG INDUSTRY AND TRADING CO., LTD.         NaN          SAM   \n",
       "2        NINGBO SUNRISE ENTERPRISES UNITED CO., LTD.         NaN          SAM   \n",
       "3        NINGBO SUNRISE ENTERPRISES UNITED CO., LTD.         NaN          SAM   \n",
       "4                                 HOTFOCUS CO., LTD.         NaN          SAM   \n",
       "...                                              ...         ...          ...   \n",
       "1686128                                          NaN         NaN          MLT   \n",
       "1686129                                          NaN         NaN          BLZ   \n",
       "1686130                                          NaN         NaN          BLZ   \n",
       "1686131                                          NaN         NaN          BLZ   \n",
       "1686132                                          NaN         NaN          BLZ   \n",
       "\n",
       "        jurisdiction_description company_type  \\\n",
       "0                          Samoa          NaN   \n",
       "1                          Samoa          NaN   \n",
       "2                          Samoa          NaN   \n",
       "3                          Samoa          NaN   \n",
       "4                          Samoa          NaN   \n",
       "...                          ...          ...   \n",
       "1686128                    Malta          NaN   \n",
       "1686129                   Belize          NaN   \n",
       "1686130                   Belize          NaN   \n",
       "1686131                   Belize          NaN   \n",
       "1686132                   Belize          NaN   \n",
       "\n",
       "                                                   address  internal_id  ...  \\\n",
       "0        ORION HOUSE SERVICES (HK) LIMITED ROOM 1401; 1...    1001256.0  ...   \n",
       "1        ORION HOUSE SERVICES (HK) LIMITED ROOM 1401; 1...    1001256.0  ...   \n",
       "2        ORION HOUSE SERVICES (HK) LIMITED ROOM 1401; 1...    1001263.0  ...   \n",
       "3        ORION HOUSE SERVICES (HK) LIMITED ROOM 1401; 1...    1001263.0  ...   \n",
       "4        ORION HOUSE SERVICES (HK) LIMITED ROOM 1401; 1...    1000896.0  ...   \n",
       "...                                                    ...          ...  ...   \n",
       "1686128                                                NaN          NaN  ...   \n",
       "1686129                                                NaN          NaN  ...   \n",
       "1686130                                                NaN          NaN  ...   \n",
       "1686131                                                NaN          NaN  ...   \n",
       "1686132                                                NaN          NaN  ...   \n",
       "\n",
       "                                             valid_until_y note_y   _start  \\\n",
       "0           The Panama Papers data is current through 2015    NaN   388171   \n",
       "1           The Panama Papers data is current through 2015    NaN   429978   \n",
       "2           The Panama Papers data is current through 2015    NaN   388171   \n",
       "3           The Panama Papers data is current through 2015    NaN   430722   \n",
       "4           The Panama Papers data is current through 2015    NaN   388171   \n",
       "...                                                    ...    ...      ...   \n",
       "1686128  Malta corporate registry data is current throu...    NaN  1812217   \n",
       "1686129  Pandora Papers - Alcogal data is current throu...    NaN  1969304   \n",
       "1686130  Pandora Papers - Alcogal data is current throu...    NaN  1969305   \n",
       "1686131  Pandora Papers - Alcogal data is current throu...    NaN  1969306   \n",
       "1686132  Pandora Papers - Alcogal data is current throu...    NaN  1969307   \n",
       "\n",
       "            _end       _type                        link status_y  \\\n",
       "0              0  officer_of              shareholder of      NaN   \n",
       "1              0  officer_of              shareholder of      NaN   \n",
       "2              1  officer_of              shareholder of      NaN   \n",
       "3              1  officer_of              shareholder of      NaN   \n",
       "4              2  officer_of              shareholder of      NaN   \n",
       "...          ...         ...                         ...      ...   \n",
       "1686128  1966846  officer_of  judicial representative of      NaN   \n",
       "1686129  1969303  officer_of         President, Director      NaN   \n",
       "1686130  1969303  officer_of           Power of Attorney      NaN   \n",
       "1686131  1969303  officer_of           Power of Attorney      NaN   \n",
       "1686132  1969303  officer_of         Secretary, Director      NaN   \n",
       "\n",
       "          start_date end_date  \\\n",
       "0        23-MAR-2006      NaN   \n",
       "1        23-MAR-2006      NaN   \n",
       "2        27-MAR-2006      NaN   \n",
       "3        27-MAR-2006      NaN   \n",
       "4        10-JAN-2006      NaN   \n",
       "...              ...      ...   \n",
       "1686128          NaN      NaN   \n",
       "1686129          NaN      NaN   \n",
       "1686130  16-JAN-2006      NaN   \n",
       "1686131  16-JAN-2006      NaN   \n",
       "1686132          NaN      NaN   \n",
       "\n",
       "                                                sourceID_y  \n",
       "0                                            Panama Papers  \n",
       "1                                            Panama Papers  \n",
       "2                                            Panama Papers  \n",
       "3                                            Panama Papers  \n",
       "4                                            Panama Papers  \n",
       "...                                                    ...  \n",
       "1686128         Paradise Papers - Malta corporate registry  \n",
       "1686129  Pandora Papers - Alemán, Cordero, Galindo & Le...  \n",
       "1686130  Pandora Papers - Alemán, Cordero, Galindo & Le...  \n",
       "1686131  Pandora Papers - Alemán, Cordero, Galindo & Le...  \n",
       "1686132  Pandora Papers - Alemán, Cordero, Galindo & Le...  \n",
       "\n",
       "[1686133 rows x 38 columns]"
      ]
     },
     "execution_count": 28,
     "metadata": {},
     "output_type": "execute_result"
    }
   ],
   "source": [
    "import pandas as pd\n",
    "\n",
    "relations=pd.read_csv(\"relationships.csv\", low_memory=False)\n",
    "relations=relations[relations[\"_type\"] == \"officer_of\"]\n",
    "\n",
    "officers=pd.read_csv(\"nodes-officers.csv\", low_memory=False)\n",
    "merge=pd.merge(officers, relations, left_on='_id', right_on='_start')\n",
    "\n",
    "entities=pd.read_csv(\"nodes-entities.csv\", low_memory=False)\n",
    "pd.merge(entities, merge, left_on='_id', right_on='_end')"
   ]
  },
  {
   "cell_type": "markdown",
   "id": "b85c540a-04af-48a4-a484-9d2417fd50ca",
   "metadata": {
    "jp-MarkdownHeadingCollapsed": true,
    "tags": []
   },
   "source": [
    "### ***Exercise n°3***"
   ]
  },
  {
   "cell_type": "markdown",
   "id": "d042e89a-8b4c-48c6-ad7c-e8bcae0b1051",
   "metadata": {},
   "source": [
    "### Question n°6\n",
    "How many service providers have been declared in the offshore leaks and what is the proportion of these service providers vis-à-vis officers?"
   ]
  },
  {
   "cell_type": "code",
   "execution_count": 2,
   "id": "f761845c-9472-4339-aa19-aee7095d4ee0",
   "metadata": {},
   "outputs": [
    {
     "name": "stdout",
     "output_type": "stream",
     "text": [
      "Mossack Fonseca               309357\n",
      "Appleby                       240495\n",
      "Portcullis Trustnet           226339\n",
      "Commonwealth Trust Limited     62342\n",
      "Name: service_provider, dtype: int64\n",
      "Number of officers : 1686133\n"
     ]
    }
   ],
   "source": [
    "import pandas as pd\n",
    "\n",
    "adress=pd.read_csv(\"nodes-addresses.csv\", low_memory=False)\n",
    "relations=pd.read_csv(\"relationships.csv\", low_memory=False)\n",
    "officers=pd.read_csv(\"nodes-officers.csv\", low_memory=False)\n",
    "entities=pd.read_csv(\"nodes-entities.csv\", low_memory=False)\n",
    "\n",
    "relations_leaks=relations[relations[\"_type\"] == \"registered_address\"]\n",
    "merge_leaks=pd.merge(entities, relations_leaks, left_on='_id', right_on='_start')\n",
    "merge_leaks=pd.merge(adress, merge_leaks, left_on='_id', right_on='_end')\n",
    "#print(merge_leaks[\"service_provider\"].value_counts())\n",
    "#print(\"Number of service providers : \" + str(len(merge_leaks[\"service_provider\"].value_counts())))\n",
    "\n",
    "relations=relations[relations[\"_type\"] == \"officer_of\"]\n",
    "merge_officers=pd.merge(officers, relations, left_on='_id', right_on='_start')\n",
    "merge_officers=pd.merge(entities, merge_officers, left_on='_id', right_on='_end')\n",
    "print(merge_officers[\"service_provider\"].value_counts())\n",
    "print(\"Number of officers : \" + str(len(merge_officers)))"
   ]
  },
  {
   "cell_type": "code",
   "execution_count": null,
   "id": "3f930c1a-bd32-4346-8653-32fb9b8f3d78",
   "metadata": {},
   "outputs": [],
   "source": []
  }
 ],
 "metadata": {
  "kernelspec": {
   "display_name": "Python 3 (ipykernel)",
   "language": "python",
   "name": "python3"
  },
  "language_info": {
   "codemirror_mode": {
    "name": "ipython",
    "version": 3
   },
   "file_extension": ".py",
   "mimetype": "text/x-python",
   "name": "python",
   "nbconvert_exporter": "python",
   "pygments_lexer": "ipython3",
   "version": "3.9.7"
  }
 },
 "nbformat": 4,
 "nbformat_minor": 5
}
